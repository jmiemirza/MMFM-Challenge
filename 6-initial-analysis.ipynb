{
 "cells": [
  {
   "cell_type": "code",
   "execution_count": 1,
   "id": "67db0597-e6a2-4498-8581-7745ee420eb4",
   "metadata": {},
   "outputs": [],
   "source": [
    "# !pip install lancedb"
   ]
  },
  {
   "cell_type": "code",
   "execution_count": 19,
   "id": "1bca9e05-60e3-4c70-b782-64956fd85b27",
   "metadata": {},
   "outputs": [],
   "source": [
    "import json\n",
    "\n",
    "import lancedb\n",
    "import pandas as pd\n",
    "from PIL import Image"
   ]
  },
  {
   "cell_type": "markdown",
   "id": "8ddc1785-f395-4ace-87f2-a7dda30fab2a",
   "metadata": {},
   "source": [
    "## Load the Dataset"
   ]
  },
  {
   "cell_type": "code",
   "execution_count": 20,
   "id": "8f5aca7a-e355-4714-b64d-0d94e0b5a7ed",
   "metadata": {},
   "outputs": [],
   "source": [
    "MYCHART_DIR = \"data/raw_datasets/mychart\"\n",
    "MYDOC_DIR = \"data/raw_datasets/mydoc\"\n",
    "MYINFOGRAPHIC_DIR = \"data/raw_datasets/myinfographic\""
   ]
  },
  {
   "cell_type": "code",
   "execution_count": 21,
   "id": "248bdf54-daa2-4769-a104-d54c3fb50776",
   "metadata": {},
   "outputs": [],
   "source": [
    "mychart = json.load(open(f\"{MYCHART_DIR}/annot_wo_answer.json\", \"r\"))\n",
    "mydoc = json.load(open(f\"{MYDOC_DIR}/annot_wo_answer.json\", \"r\"))\n",
    "myinfographic = json.load(open(f\"{MYINFOGRAPHIC_DIR}/annot_wo_answer.json\", \"r\"))"
   ]
  },
  {
   "cell_type": "code",
   "execution_count": 22,
   "id": "70b55abf-6a57-41b9-b3c3-5f035c0ff0c3",
   "metadata": {},
   "outputs": [],
   "source": [
    "df_mychart = pd.read_json(f\"{MYCHART_DIR}/annot_wo_answer.json\")\n",
    "df_mychart[\"dataset\"] = \"mychart\"\n",
    "df_mychart[\"slice\"] = \"test\"\n",
    "# df_mychart[\"image_dir\"] = MYCHART_DIR"
   ]
  },
  {
   "cell_type": "code",
   "execution_count": 23,
   "id": "a05916c1-8506-4f75-9141-14141161b0df",
   "metadata": {},
   "outputs": [],
   "source": [
    "df_mydoc = pd.read_json(f\"{MYDOC_DIR}/annot_wo_answer.json\")\n",
    "df_mydoc[\"dataset\"] = \"mydoc\"\n",
    "df_mydoc[\"slice\"] = \"test\"\n",
    "# df_mydoc[\"image_dir\"] = MYDOC_DIR"
   ]
  },
  {
   "cell_type": "code",
   "execution_count": 24,
   "id": "e2af5194-f5e0-4034-8ab9-30a8fda3b92f",
   "metadata": {},
   "outputs": [],
   "source": [
    "df_myinfographic = pd.read_json(f\"{MYINFOGRAPHIC_DIR}/annot_wo_answer.json\")\n",
    "df_myinfographic[\"dataset\"] = \"myinfographic\"\n",
    "df_myinfographic[\"slice\"] = \"test\"\n",
    "# df_myinfographic[\"image_dir\"] = MYINFOGRAPHIC_DIR"
   ]
  },
  {
   "cell_type": "markdown",
   "id": "618203cb-ff8d-4be7-b626-fdbc00346aa0",
   "metadata": {},
   "source": [
    "### Init DB"
   ]
  },
  {
   "cell_type": "code",
   "execution_count": 25,
   "id": "be74b5ea-142c-4d5b-b7c1-db67f0f8e50b",
   "metadata": {},
   "outputs": [],
   "source": [
    "uri = \"data/lancedb\"\n",
    "db = lancedb.connect(uri)"
   ]
  },
  {
   "cell_type": "code",
   "execution_count": 26,
   "id": "e0fda3e8-25e3-4cd4-b3d3-6ec79fec4d8d",
   "metadata": {},
   "outputs": [
    {
     "data": {
      "text/plain": [
       "[]"
      ]
     },
     "execution_count": 26,
     "metadata": {},
     "output_type": "execute_result"
    }
   ],
   "source": [
    "db.table_names()"
   ]
  },
  {
   "cell_type": "code",
   "execution_count": 27,
   "id": "185f2821-870f-4ec0-af97-39f35aab6892",
   "metadata": {},
   "outputs": [],
   "source": [
    "if \"mmfm\" not in db.table_names():\n",
    "    mmfm_table = db.create_table(\n",
    "        \"mmfm\",\n",
    "        data=pd.concat([df_mychart, df_mydoc, df_myinfographic]),\n",
    "    )\n",
    "else:\n",
    "    mmfm_table = db.open_table(\"mmfm\")"
   ]
  },
  {
   "cell_type": "code",
   "execution_count": 28,
   "id": "0eaf42fa-c899-481a-a85b-11d69536ee7f",
   "metadata": {},
   "outputs": [
    {
     "data": {
      "text/plain": [
       "['mmfm']"
      ]
     },
     "execution_count": 28,
     "metadata": {},
     "output_type": "execute_result"
    }
   ],
   "source": [
    "db.table_names()"
   ]
  },
  {
   "cell_type": "code",
   "execution_count": 29,
   "id": "6de1df53-398a-4af0-8676-8a4ee98a3e2d",
   "metadata": {},
   "outputs": [
    {
     "data": {
      "text/plain": [
       "id: string\n",
       "image: string\n",
       "conversations: list<item: struct<from: string, value: string>>\n",
       "  child 0, item: struct<from: string, value: string>\n",
       "      child 0, from: string\n",
       "      child 1, value: string\n",
       "dataset: string\n",
       "slice: string"
      ]
     },
     "execution_count": 29,
     "metadata": {},
     "output_type": "execute_result"
    }
   ],
   "source": [
    "mmfm_table.schema"
   ]
  },
  {
   "cell_type": "code",
   "execution_count": null,
   "id": "8cc7b0b5-6783-4d3f-87f5-3e3cbf7a1e68",
   "metadata": {},
   "outputs": [],
   "source": [
    "mmfm_table.to_pandas().sample(3)"
   ]
  },
  {
   "cell_type": "markdown",
   "id": "3ed2c6bb-a200-4de3-8422-ced72f607ef7",
   "metadata": {},
   "source": [
    "## Analysis"
   ]
  },
  {
   "cell_type": "code",
   "execution_count": 13,
   "id": "d186de87-8e93-49f6-9ff6-3af11633df01",
   "metadata": {},
   "outputs": [
    {
     "data": {
      "text/plain": [
       "(200, 400, 428)"
      ]
     },
     "execution_count": 13,
     "metadata": {},
     "output_type": "execute_result"
    }
   ],
   "source": [
    "len(mychart), len(mydoc), len(myinfographic)"
   ]
  },
  {
   "cell_type": "code",
   "execution_count": 14,
   "id": "7e076cf1-a08c-41c6-942d-270a886c53ca",
   "metadata": {},
   "outputs": [
    {
     "data": {
      "text/plain": [
       "(200, 360, 428)"
      ]
     },
     "execution_count": 14,
     "metadata": {},
     "output_type": "execute_result"
    }
   ],
   "source": [
    "len(set(doc[\"image\"] for doc in mychart)), len(set(doc[\"image\"] for doc in mydoc)), len(set(doc[\"image\"] for doc in myinfographic))"
   ]
  },
  {
   "cell_type": "markdown",
   "id": "b44ac7f9-62e6-4060-86be-3d090dad64e1",
   "metadata": {},
   "source": [
    "Note: Only `mydoc` has duplicate images"
   ]
  },
  {
   "cell_type": "markdown",
   "id": "477ed911-7f57-4c22-8a10-8ace0c0f5925",
   "metadata": {},
   "source": [
    "### MyChart"
   ]
  },
  {
   "cell_type": "code",
   "execution_count": 15,
   "id": "28bfc826-b01c-43f0-aea7-f5aabf80b195",
   "metadata": {},
   "outputs": [],
   "source": [
    "TEST_IDX = 4"
   ]
  },
  {
   "cell_type": "code",
   "execution_count": 16,
   "id": "82dcf255-dda5-4c94-8aaf-de2bb9d1f915",
   "metadata": {},
   "outputs": [
    {
     "data": {
      "text/plain": [
       "{'id': 'mychart_82_hbar',\n",
       " 'image': '82_hbar_0635a64e806fee03461eddecf061fd851a801f3b482d208e5c651e7c68c69585_36.png',\n",
       " 'conversations': [{'from': 'human',\n",
       "   'value': '<image>\\nWhat was the cost of software licenses for the year ended December 31, 2004?'}]}"
      ]
     },
     "execution_count": 16,
     "metadata": {},
     "output_type": "execute_result"
    }
   ],
   "source": [
    "mychart[TEST_IDX]"
   ]
  },
  {
   "cell_type": "code",
   "execution_count": null,
   "id": "cf0b715e-3e03-40f1-8887-cfb7f5318d25",
   "metadata": {},
   "outputs": [],
   "source": [
    "image = Image.open(f\"{MYCHART_DIR}/images/{mychart[TEST_IDX]['image']}\")\n",
    "image"
   ]
  },
  {
   "cell_type": "code",
   "execution_count": null,
   "id": "eae7e576-dd6d-43f2-9cc6-cd994c48668b",
   "metadata": {},
   "outputs": [],
   "source": [
    "other_question_types = set()\n",
    "what_cnt = 0\n",
    "is_there_cnt = 0\n",
    "for idx, chart in enumerate(mychart):\n",
    "    question = chart[\"conversations\"][0][\"value\"].lower()\n",
    "    is_others = True\n",
    "    if \"what\" in question:\n",
    "        what_cnt += 1\n",
    "        is_others = False\n",
    "    if \"is there\" in question:\n",
    "        is_there_cnt += 1\n",
    "        is_others = False\n",
    "        print(question, chart[\"image\"])\n",
    "    if is_others:\n",
    "        other_question_types.add(idx)"
   ]
  },
  {
   "cell_type": "code",
   "execution_count": 37,
   "id": "0f46cc99-207d-4c38-a54a-5493e2b96986",
   "metadata": {},
   "outputs": [
    {
     "data": {
      "text/plain": [
       "(200, 176, 2, 22)"
      ]
     },
     "execution_count": 37,
     "metadata": {},
     "output_type": "execute_result"
    }
   ],
   "source": [
    "len(mychart), what_cnt, is_there_cnt, len(mychart) - (what_cnt + is_there_cnt)"
   ]
  },
  {
   "cell_type": "code",
   "execution_count": null,
   "id": "11637b26-6e8e-4179-8365-9976b4649e2b",
   "metadata": {},
   "outputs": [],
   "source": [
    "for idx in other_question_types:\n",
    "    print(mychart[idx])"
   ]
  },
  {
   "cell_type": "markdown",
   "id": "3e84ceac-c810-4aef-9bc1-848e9a794f61",
   "metadata": {},
   "source": [
    "### MyDoc"
   ]
  },
  {
   "cell_type": "code",
   "execution_count": 16,
   "id": "77db63a2-a14e-4ce3-b537-e43a3f07bbf2",
   "metadata": {},
   "outputs": [],
   "source": [
    "TEST_IDX = 21"
   ]
  },
  {
   "cell_type": "code",
   "execution_count": null,
   "id": "90094c8d-8b09-4e70-9f91-6ba0c9e4b83b",
   "metadata": {},
   "outputs": [],
   "source": [
    "mydoc[TEST_IDX]"
   ]
  },
  {
   "cell_type": "code",
   "execution_count": null,
   "id": "e03a44a6-0431-428a-9405-3d749aacacbb",
   "metadata": {},
   "outputs": [],
   "source": [
    "image = Image.open(f\"{MYDOC_DIR}/images/{mydoc[TEST_IDX]['image']}\")\n",
    "image"
   ]
  },
  {
   "cell_type": "code",
   "execution_count": 21,
   "id": "4b16b87d-6e43-45a1-9cc2-b96c0bad603c",
   "metadata": {},
   "outputs": [],
   "source": [
    "for idx, doc in enumerate(mydoc):\n",
    "    assert doc[\"conversations\"][0][\"value\"].startswith(\"<image>\\nWhat is the \")\n",
    "    assert doc[\"conversations\"][0][\"value\"].endswith(\" in the image?\")"
   ]
  },
  {
   "cell_type": "code",
   "execution_count": null,
   "id": "329dd2d9-a28c-4d97-9ce9-9bb96f443fba",
   "metadata": {
    "scrolled": true
   },
   "outputs": [],
   "source": [
    "for idx, doc in enumerate(mydoc):\n",
    "    autofill_key = doc[\"conversations\"][0][\"value\"][len(\"<image>\\nWhat is the \"):-len(\" in the image?\")]\n",
    "    # if len(autofill_key) == 0:\n",
    "    #     print(idx, doc, autofill_key)\n",
    "    print(autofill_key)"
   ]
  },
  {
   "cell_type": "markdown",
   "id": "1fdd5670-b31d-46b1-b2f1-a8d7e9764265",
   "metadata": {},
   "source": [
    "### MyInfographics"
   ]
  },
  {
   "cell_type": "code",
   "execution_count": 60,
   "id": "ef103b59-2efa-40eb-b2df-5a9d6b40157d",
   "metadata": {},
   "outputs": [],
   "source": [
    "TEST_IDX = 4"
   ]
  },
  {
   "cell_type": "code",
   "execution_count": null,
   "id": "253e6ec0-1581-4119-9de2-cbfa52a26a2e",
   "metadata": {},
   "outputs": [],
   "source": [
    "myinfographic[TEST_IDX]"
   ]
  },
  {
   "cell_type": "code",
   "execution_count": null,
   "id": "4ea598a4-da11-4b80-a38d-d06bea0b8579",
   "metadata": {},
   "outputs": [],
   "source": [
    "image = Image.open(f\"{MYINFOGRAPHIC_DIR}/images/{myinfographic[TEST_IDX]['image']}\")\n",
    "image"
   ]
  },
  {
   "cell_type": "code",
   "execution_count": null,
   "id": "3e7c0a0e-5602-447d-abed-b521ae35f7cd",
   "metadata": {},
   "outputs": [],
   "source": []
  }
 ],
 "metadata": {
  "kernelspec": {
   "display_name": "Python 3 (ipykernel)",
   "language": "python",
   "name": "python3"
  },
  "language_info": {
   "codemirror_mode": {
    "name": "ipython",
    "version": 3
   },
   "file_extension": ".py",
   "mimetype": "text/x-python",
   "name": "python",
   "nbconvert_exporter": "python",
   "pygments_lexer": "ipython3",
   "version": "3.10.9"
  }
 },
 "nbformat": 4,
 "nbformat_minor": 5
}
