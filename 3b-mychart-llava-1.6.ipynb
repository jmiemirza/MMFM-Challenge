{
 "cells": [
  {
   "cell_type": "markdown",
   "id": "d086cc7a",
   "metadata": {},
   "source": [
    "# Chart Understanding with Llava-NEXT and Structured Generation"
   ]
  },
  {
   "cell_type": "code",
   "execution_count": 1,
   "id": "9f6a6e10-6fb4-4675-b4ae-992b51e7f1e9",
   "metadata": {},
   "outputs": [
    {
     "name": "stderr",
     "output_type": "stream",
     "text": [
      "/home/leloykun/anaconda3/envs/MMFM-Challenge/lib/python3.10/site-packages/tqdm/auto.py:21: TqdmWarning: IProgress not found. Please update jupyter and ipywidgets. See https://ipywidgets.readthedocs.io/en/stable/user_install.html\n",
      "  from .autonotebook import tqdm as notebook_tqdm\n"
     ]
    }
   ],
   "source": [
    "import os\n",
    "import json\n",
    "import base64\n",
    "import requests\n",
    "from io import BytesIO\n",
    "\n",
    "import numpy as np\n",
    "import pandas as pd\n",
    "import huggingface_hub\n",
    "from PIL import Image, ImageOps\n",
    "from PIL.Image import Image as PILImage\n",
    "from transformers import LlavaNextProcessor\n",
    "from transformers.image_processing_utils import select_best_resolution"
   ]
  },
  {
   "cell_type": "code",
   "execution_count": null,
   "id": "1380920c-e657-47b0-9de0-54e08336d35b",
   "metadata": {},
   "outputs": [],
   "source": []
  },
  {
   "cell_type": "code",
   "execution_count": 2,
   "id": "71cd39bd",
   "metadata": {},
   "outputs": [],
   "source": [
    "PROMPT_FORMAT = \"<system_prompt> USER: <image>\\\\n<user> ASSISTANT: \"\n",
    "SYSTEM_PROMPT_FORMAT = \"\"\"You are a scientific chart explainer. You will receive an image with a chart in it as an input and you must answer the user's question based on the data from the chart. Be concise and don't yap. If you are uncertain, provide a range of possible answers. Output in the following json format: <json_format>.\"\"\""
   ]
  },
  {
   "cell_type": "code",
   "execution_count": 3,
   "id": "de13f4db",
   "metadata": {},
   "outputs": [],
   "source": [
    "processor = LlavaNextProcessor.from_pretrained(\"llava-hf/llava-v1.6-vicuna-13b-hf\")\n",
    "possible_resolutions = processor.image_processor.image_grid_pinpoints"
   ]
  },
  {
   "cell_type": "code",
   "execution_count": 4,
   "id": "6fcd67f5",
   "metadata": {},
   "outputs": [],
   "source": [
    "# possible_resolutions += [\n",
    "#     [672, 1008],\n",
    "#     [1008, 672],\n",
    "#     [1008, 1008],\n",
    "# ]"
   ]
  },
  {
   "cell_type": "code",
   "execution_count": 5,
   "id": "ca6db93e-fc62-4319-883c-611747cedce4",
   "metadata": {},
   "outputs": [],
   "source": [
    "def resize_and_pad_image(image: PILImage) -> PILImage:\n",
    "    best_resolution = select_best_resolution(image.size, possible_resolutions)\n",
    "    print(f\"{best_resolution = }\")\n",
    "    resized_image = ImageOps.cover(image, best_resolution)\n",
    "    resized_and_padded_image = ImageOps.pad(\n",
    "        resized_image,\n",
    "        best_resolution,\n",
    "        method=processor.image_processor.resample,\n",
    "        color=(255,255,255,0),\n",
    "    )\n",
    "    return resized_and_padded_image\n",
    "\n",
    "\n",
    "def encode_local_image(image_path, resize_and_pad: bool=True):\n",
    "    # load image\n",
    "    image = Image.open(image_path)\n",
    "    if resize_and_pad:\n",
    "        image = resize_and_pad_image(image)\n",
    "        print(f\"New size: {image.size}\")\n",
    "\n",
    "    # Convert the image to a base64 string\n",
    "    buffer = BytesIO()\n",
    "    image.save(buffer, format=\"PNG\")  # Use the appropriate format (e.g., JPEG, PNG)\n",
    "    base64_image = base64.b64encode(buffer.getvalue()).decode('utf-8')\n",
    "\n",
    "    # add string formatting required by the endpoint\n",
    "    image_string = f\"data:image/png;base64,{base64_image}\"\n",
    "\n",
    "    return image_string"
   ]
  },
  {
   "cell_type": "code",
   "execution_count": 6,
   "id": "6ae63e41",
   "metadata": {},
   "outputs": [],
   "source": [
    "def infer_chart_type(image_path: str) -> str:\n",
    "    image_path_parts = image_path.split(\"/\")\n",
    "    print(f\"{image_path_parts = }\")\n",
    "    if \"_vbar_\" in image_path_parts[-1]:\n",
    "        return \"Vertical Bar Chart\"\n",
    "    elif \"_hbar_\" in image_path_parts[-1]:\n",
    "        return \"Horizontal Bar Chart\"\n",
    "    elif \"_line_\" in image_path_parts[-1]:\n",
    "        return \"Line Chart\"\n",
    "    elif \"_sct_\" in image_path_parts[-1]:\n",
    "        return \"Scatter Plot\"\n",
    "    elif \"_pie_\" in image_path_parts[-1]:\n",
    "        return \"Pie Chart\"\n",
    "    else:\n",
    "        return \"Other Chart Type\""
   ]
  },
  {
   "cell_type": "code",
   "execution_count": 7,
   "id": "96df3592-fc0a-421b-8a03-88e76aa537e7",
   "metadata": {},
   "outputs": [],
   "source": [
    "def build_tool():\n",
    "    return {\n",
    "        \"type\": \"function\",\n",
    "        \"function\": {\n",
    "            \"name\": \"chart_information_extraction_tool\",\n",
    "            \"description\": \"Extract information from a chart\",\n",
    "            \"parameters\": {\n",
    "                \"type\": \"object\",\n",
    "                \"properties\": {\n",
    "                    \"1_legends\": {\n",
    "                        \"type\": \"array\",\n",
    "                        \"items\": {\"type\": \"string\"},\n",
    "                        \"description\": \"Groups of data having the same color in the chart. Can be found in the legend.\"\n",
    "                    },\n",
    "                    \"2_axis_categories\": {\n",
    "                        \"type\": \"array\",\n",
    "                        \"items\": {\"type\": \"string\"},\n",
    "                        \"description\": \"Categories in the chart. They are on the X-axis in vertical bar charts, line charts, and scatter plots. But they are on the Y-axis in horizontal bar charts.\",\n",
    "                    },\n",
    "                    \"3_reasoning\": {\"type\": \"string\"},\n",
    "                    \"4_answer\": {\n",
    "                        \"type\": \"string\",\n",
    "                        \"description\": \"Concise answer to the user question.\"\n",
    "                    },\n",
    "                },\n",
    "                \"required\": [\"1_legends\", \"2_axis_categories\", \"3_reasoning\", \"4_answer\"],\n",
    "            },\n",
    "        }\n",
    "    }"
   ]
  },
  {
   "cell_type": "code",
   "execution_count": 8,
   "id": "6f33000d",
   "metadata": {},
   "outputs": [],
   "source": [
    "API_URL = \"https://bkliyhzstf7g5dyz.us-east-1.aws.endpoints.huggingface.cloud\"\n",
    "headers = {\n",
    "\t\"Accept\" : \"application/json\",\n",
    "\t\"Authorization\": f\"Bearer {huggingface_hub.get_token()}\",\n",
    "\t\"Content-Type\": \"application/json\" \n",
    "}\n",
    "\n",
    "def query(payload):\n",
    "\tresponse = requests.post(API_URL, headers=headers, json=payload)\n",
    "\treturn response.json()"
   ]
  },
  {
   "cell_type": "code",
   "execution_count": 9,
   "id": "c3adc673-89aa-42e0-856a-dc6bcbaced9a",
   "metadata": {},
   "outputs": [],
   "source": [
    "def run_inference(image_path, question, seed=0, max_length: int=100):\n",
    "    image_base64 = encode_local_image(image_path)\n",
    "    question_trimmed = question[len(\"<image>\\n\"):]\n",
    "    chart_type = infer_chart_type(image_path)\n",
    "    print(f\"{chart_type = } | {question_trimmed = }\")\n",
    "    tool = build_tool()\n",
    "\n",
    "    system_prompt = SYSTEM_PROMPT_FORMAT.replace(\n",
    "        \"<json_format>\",\n",
    "        json.dumps(tool[\"function\"][\"parameters\"][\"properties\"]),\n",
    "    )\n",
    "    prompt = (\n",
    "        PROMPT_FORMAT\n",
    "        .replace(\"<system_prompt>\", system_prompt)\n",
    "        .replace(\"<image>\", f\"![]({image_base64})\")\n",
    "        .replace(\"<user>\", f\"This is a {chart_type}. {question_trimmed}\")\n",
    "    )\n",
    "    print(f\"{prompt = }\")\n",
    "\n",
    "    # This version of TGI uses an older version of Outlines\n",
    "    # which re-orders the keys in the JSON in alphabetical order.\n",
    "    # Hence the prefixes in the keys in the grammer\n",
    "    response = query({\n",
    "        \"inputs\": prompt,\n",
    "        \"parameters\": {\n",
    "            \"return_full_text\": False,\n",
    "            \"max_new_tokens\": 2048,\n",
    "            \"frequency_penalty\": 1,\n",
    "            \"temperature\": 1,\n",
    "            \"top_p\": 0.95,\n",
    "            \"frequency_penalty\": 0,\n",
    "            \"presence_penalty\": 0,\n",
    "            \"grammar\": {\n",
    "                \"type\": \"json\",\n",
    "                \"value\": tool[\"function\"][\"parameters\"],\n",
    "            }\n",
    "        }\n",
    "    })\n",
    "    print(f\"{response = }\")\n",
    "\n",
    "    return json.loads(response[0][\"generated_text\"])[\"4_answer\"]"
   ]
  },
  {
   "cell_type": "code",
   "execution_count": null,
   "id": "2c9d0f95-e0b1-4c12-8d9d-b9c495a594b5",
   "metadata": {},
   "outputs": [],
   "source": []
  },
  {
   "cell_type": "code",
   "execution_count": 10,
   "id": "5c314253-ca29-409d-94ee-83e2c252d1f6",
   "metadata": {},
   "outputs": [],
   "source": [
    "image_path = \"data/raw_datasets/mychart/images/328_hbar_0635a64e806fee03461eddecf061fd851a801f3b482d208e5c651e7c68c69585_66.png\""
   ]
  },
  {
   "cell_type": "code",
   "execution_count": null,
   "id": "388fbacf",
   "metadata": {},
   "outputs": [],
   "source": [
    "image = Image.open(image_path)\n",
    "image = resize_and_pad_image(image)\n",
    "image"
   ]
  },
  {
   "cell_type": "code",
   "execution_count": 12,
   "id": "e3f6a09f-0570-48f8-89d7-f271140d7060",
   "metadata": {
    "scrolled": true
   },
   "outputs": [
    {
     "name": "stdout",
     "output_type": "stream",
     "text": [
      "best_resolution = (672, 672)\n",
      "New size: (672, 672)\n",
      "image_path_parts = ['data', 'raw_datasets', 'mychart', 'images', '328_hbar_0635a64e806fee03461eddecf061fd851a801f3b482d208e5c651e7c68c69585_66.png']\n",
      "chart_type = 'Horizontal Bar Chart' | question_trimmed = 'What is the accumulated amortization on completed technology?'\n",
      "prompt = 'You are a scientific chart explainer. You will receive an image with a chart in it as an input and you must answer the user\\'s question based on the data from the chart. Be concise and don\\'t yap. If you are uncertain, provide a range of possible answers. Output in the following json format: {\"1_legends\": {\"type\": \"array\", \"items\": {\"type\": \"string\"}, \"description\": \"Groups of data having the same color in the chart. Can be found in the legend.\"}, \"2_axis_categories\": {\"type\": \"array\", \"items\": {\"type\": \"string\"}, \"description\": \"Categories in the chart. They are on the X-axis in vertical bar charts, line charts, and scatter plots. But they are on the Y-axis in horizontal bar charts.\"}, \"3_reasoning\": {\"type\": \"string\"}, \"4_answer\": {\"type\": \"string\", \"description\": \"Concise answer to the user question.\"}}. USER: ![](data:image/png;base64,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)\\\\nThis is a Horizontal Bar Chart. What is the accumulated amortization on completed technology? ASSISTANT: '\n",
      "response = [{'generated_text': '{\"1_legends\": [\"Completed technology\", \"Trademarks and trade names\", \"Acquired license rights\", \"Total\"], \\n\"2_axis_categories\": [\"December 31, 2004\", \"December 31, 2005\", \"December 31, 2006\", \"December 31, 2007\"], \\n\"3_reasoning\": \"The bar represents the amount of accumulated amortization on completed technology in each of the four data points provided. It is displayed in blue color in the chart, showing the financial impact of software over time.\"\\n,\"4_answer\": \"Accumulated amortization on completed technology is shown as a blue horizontal bar in each of the charts for December 31, 2004, 2005, 2006, and 2007. The exact values for each year cannot be provided without looking at the actual chart numbers.\"}'}]\n"
     ]
    },
    {
     "data": {
      "text/plain": [
       "'Accumulated amortization on completed technology is shown as a blue horizontal bar in each of the charts for December 31, 2004, 2005, 2006, and 2007. The exact values for each year cannot be provided without looking at the actual chart numbers.'"
      ]
     },
     "execution_count": 12,
     "metadata": {},
     "output_type": "execute_result"
    }
   ],
   "source": [
    "run_inference(\n",
    "    image_path,\n",
    "    \"<image>\\nWhat is the accumulated amortization on completed technology?\",\n",
    ")"
   ]
  },
  {
   "cell_type": "code",
   "execution_count": null,
   "id": "e538d93d-ac45-4aff-8300-93842565aff3",
   "metadata": {},
   "outputs": [],
   "source": []
  },
  {
   "cell_type": "code",
   "execution_count": 13,
   "id": "e59a7cb6-948e-4b0e-be15-278a40898f47",
   "metadata": {},
   "outputs": [
    {
     "name": "stdout",
     "output_type": "stream",
     "text": [
      "data/raw_datasets/mychart/annot_wo_answer.json\n"
     ]
    }
   ],
   "source": [
    "dataset_name = \"mychart\"\n",
    "dataset_path = os.path.join(\"data/raw_datasets\", dataset_name, \"annot_wo_answer.json\")\n",
    "print(dataset_path)\n",
    "assert os.path.exists(dataset_path)\n",
    "\n",
    "df_data = pd.read_json(dataset_path)"
   ]
  },
  {
   "cell_type": "code",
   "execution_count": 14,
   "id": "818b75ab-750c-46db-ac23-ea519a95c58d",
   "metadata": {},
   "outputs": [],
   "source": [
    "!mkdir -p inference_results/llava-1-6-vicuna-13b-hf"
   ]
  },
  {
   "cell_type": "code",
   "execution_count": null,
   "id": "2a704a27-2df0-47d5-ae5e-7735b4484c6e",
   "metadata": {},
   "outputs": [],
   "source": [
    "failed_idx = set(failed_idx)\n",
    "failed_idx"
   ]
  },
  {
   "cell_type": "code",
   "execution_count": null,
   "id": "92d9a6aa",
   "metadata": {},
   "outputs": [],
   "source": [
    "failed_idx = set()\n",
    "for idx, row in df_data.iterrows():\n",
    "    id = row[\"id\"]\n",
    "    answer_txt_path = f\"inference_results/llava-1-6-vicuna-13b-hf/{id}.txt\"\n",
    "\n",
    "    image_path = f\"data/raw_datasets/{dataset_name}/images/{row['image']}\"\n",
    "    question = row[\"conversations\"][0][\"value\"]\n",
    "\n",
    "    if os.path.exists(answer_txt_path):\n",
    "        continue\n",
    "    print(id, idx, question)\n",
    "\n",
    "    try:\n",
    "        answer = run_inference(image_path, question)\n",
    "        print(f\"{answer = }\")\n",
    "        with open(answer_txt_path, \"w\") as f:\n",
    "            f.write(str(answer))\n",
    "    except Exception as e:\n",
    "        print(\">>>>>>> ERROR\", idx, row, e, \"<<<<<<<\")\n",
    "        failed_idx.add(idx)\n",
    "    print(\"---------\")"
   ]
  },
  {
   "cell_type": "code",
   "execution_count": null,
   "id": "9cc68ddf-3d15-4c36-bc95-9d3e5a855323",
   "metadata": {},
   "outputs": [],
   "source": [
    "for idx, row in df_data.iterrows():\n",
    "    id = row[\"id\"]\n",
    "    answer_txt_path = f\"inference_results/llava-1-6-vicuna-13b-hf/{id}.txt\"\n",
    "    if not os.path.exists(answer_txt_path):\n",
    "        failed_idx.add(idx)\n",
    "        continue\n",
    "\n",
    "    with open(answer_txt_path, \"r\") as f:\n",
    "        answer = f.read()\n",
    "\n",
    "    if len(answer) >= 50:\n",
    "        failed_idx.add(idx)"
   ]
  },
  {
   "cell_type": "code",
   "execution_count": null,
   "id": "d89d345b-d645-4712-b0aa-8e7b69862f5d",
   "metadata": {},
   "outputs": [],
   "source": [
    "failed_idx"
   ]
  },
  {
   "cell_type": "code",
   "execution_count": null,
   "id": "237dbb13-977f-423e-abeb-d3acf887b17c",
   "metadata": {},
   "outputs": [],
   "source": [
    "df_data.iloc[list(failed_idx)]"
   ]
  },
  {
   "cell_type": "code",
   "execution_count": null,
   "id": "5a0ec922-28ad-4a87-b59b-2fe47310a692",
   "metadata": {},
   "outputs": [],
   "source": [
    "failed_idx_2 = set()\n",
    "for idx, row in df_data.iloc[list(failed_idx)].iterrows():\n",
    "    id = row[\"id\"]\n",
    "    answer_txt_path = f\"inference_results/llava-1-6-vicuna-13b-hf/{id}.txt\"\n",
    "    if os.path.exists(answer_txt_path):\n",
    "        os.remove(answer_txt_path)\n",
    "    print(id, idx)\n",
    "\n",
    "    image_path = f\"data/raw_datasets/{dataset_name}/images/{row['image']}\"\n",
    "    question = row[\"conversations\"][0][\"value\"]\n",
    "\n",
    "    try:\n",
    "        answer = run_inference(image_path, question, seed=42)\n",
    "        with open(answer_txt_path, \"w\") as f:\n",
    "            f.write(answer)\n",
    "    except Exception as e:\n",
    "        print(idx, row, e)\n",
    "        failed_idx_2.add(idx)"
   ]
  },
  {
   "cell_type": "code",
   "execution_count": null,
   "id": "2bc41de8-07ec-4f65-a626-9968d01d90c2",
   "metadata": {},
   "outputs": [],
   "source": [
    "failed_idx_2"
   ]
  },
  {
   "cell_type": "code",
   "execution_count": null,
   "id": "540ce9d2-2f1a-4282-bc16-d242b42a09bf",
   "metadata": {},
   "outputs": [],
   "source": [
    "df_data.iloc[220][\"image\"]"
   ]
  },
  {
   "cell_type": "code",
   "execution_count": null,
   "id": "5c3fcee5-aa2f-447e-b11b-286644feb4cb",
   "metadata": {},
   "outputs": [],
   "source": [
    "df_data.iloc[220][\"conversations\"]"
   ]
  },
  {
   "cell_type": "code",
   "execution_count": null,
   "id": "1bd7c344-8f1a-4bf7-8006-235f41b90a05",
   "metadata": {},
   "outputs": [],
   "source": []
  }
 ],
 "metadata": {
  "kernelspec": {
   "display_name": "Python 3 (ipykernel)",
   "language": "python",
   "name": "python3"
  },
  "language_info": {
   "codemirror_mode": {
    "name": "ipython",
    "version": 3
   },
   "file_extension": ".py",
   "mimetype": "text/x-python",
   "name": "python",
   "nbconvert_exporter": "python",
   "pygments_lexer": "ipython3",
   "version": "3.10.14"
  }
 },
 "nbformat": 4,
 "nbformat_minor": 5
}
