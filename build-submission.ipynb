{
 "cells": [
  {
   "cell_type": "code",
   "execution_count": 1,
   "id": "79ad8a64-3351-492c-b033-386d6b30b9a7",
   "metadata": {},
   "outputs": [],
   "source": [
    "import os\n",
    "import json\n",
    "\n",
    "import pandas as pd"
   ]
  },
  {
   "cell_type": "code",
   "execution_count": null,
   "id": "9be0f222-af75-42cb-9ad3-a2512d4c888d",
   "metadata": {},
   "outputs": [],
   "source": []
  },
  {
   "cell_type": "markdown",
   "id": "2e256d49-462d-4da6-9d07-b53717b881d3",
   "metadata": {},
   "source": [
    "## Load the Dataset"
   ]
  },
  {
   "cell_type": "code",
   "execution_count": 2,
   "id": "8edbc513-975d-4665-9b83-5e623fe89389",
   "metadata": {},
   "outputs": [],
   "source": [
    "MYCHART_DIR = \"data/raw_datasets/mychart\"\n",
    "MYDOC_DIR = \"data/raw_datasets/mydoc\"\n",
    "MYINFOGRAPHIC_DIR = \"data/raw_datasets/myinfographic\""
   ]
  },
  {
   "cell_type": "code",
   "execution_count": 3,
   "id": "dc05fc4f-8e2d-4890-92aa-661686579376",
   "metadata": {},
   "outputs": [],
   "source": [
    "mychart = json.load(open(f\"{MYCHART_DIR}/annot_wo_answer.json\", \"r\"))\n",
    "mydoc = json.load(open(f\"{MYDOC_DIR}/annot_wo_answer.json\", \"r\"))\n",
    "myinfographic = json.load(open(f\"{MYINFOGRAPHIC_DIR}/annot_wo_answer.json\", \"r\"))"
   ]
  },
  {
   "cell_type": "code",
   "execution_count": null,
   "id": "1caf2822-1b6f-4cc8-a8a7-2d5d28fc894b",
   "metadata": {},
   "outputs": [],
   "source": []
  },
  {
   "cell_type": "code",
   "execution_count": 4,
   "id": "f31e92ea-7069-49a4-8e7b-ecaf056279f8",
   "metadata": {},
   "outputs": [],
   "source": [
    "test_outputs = {\n",
    "    \"id\": [],\n",
    "    \"pred\": [],\n",
    "    \"split\": [],\n",
    "}"
   ]
  },
  {
   "cell_type": "code",
   "execution_count": 5,
   "id": "c551548b",
   "metadata": {},
   "outputs": [],
   "source": [
    "inference_results_sources = [\"nous-hermes-docile\", \"llava-1-6-vicuna-13b-hf\"]"
   ]
  },
  {
   "cell_type": "code",
   "execution_count": 6,
   "id": "dde3de71-b625-4fe2-840e-b9b45dd3c162",
   "metadata": {},
   "outputs": [],
   "source": [
    "for docs_list in [mychart, mydoc, myinfographic]:\n",
    "    for doc in docs_list:\n",
    "        test_outputs[\"id\"].append(doc[\"id\"])\n",
    "        answer = \"dummy\"\n",
    "        for inference_results_source in inference_results_sources:\n",
    "            filename = f\"inference_results/{inference_results_source}/{doc['id']}.txt\"\n",
    "            if os.path.exists(filename):\n",
    "                with open(filename, \"r\") as f:\n",
    "                    answer = f.read().strip().replace(\"\\n\", \" \")\n",
    "                break\n",
    "        if answer.strip() == \"\":\n",
    "            answer = \"dummy\"\n",
    "        test_outputs[\"pred\"].append(answer)\n",
    "        test_outputs[\"split\"].append(\"public\")"
   ]
  },
  {
   "cell_type": "code",
   "execution_count": null,
   "id": "ca47869a-431c-4512-a611-53bb6a519e6c",
   "metadata": {},
   "outputs": [],
   "source": []
  },
  {
   "cell_type": "code",
   "execution_count": 7,
   "id": "97411230-8000-40f8-a1ad-81db8a0d408d",
   "metadata": {},
   "outputs": [],
   "source": [
    "train_val_datasets = [\n",
    "    'docvqa',\n",
    "    'funsd',\n",
    "    'iconqa_choose_txt',\n",
    "    'iconqa_fill_in_blank',\n",
    "    'infographicvqa',\n",
    "    'tabfact',\n",
    "    'textbookqa',\n",
    "    'wildreceipt',\n",
    "    'wtq',\n",
    "    'websrc'\n",
    "]"
   ]
  },
  {
   "cell_type": "code",
   "execution_count": 8,
   "id": "20916996",
   "metadata": {},
   "outputs": [],
   "source": [
    "llava_eval_models = [\n",
    "    \"phase-1--llava-v1.5-13b\",\n",
    "    \"phase-1--llava-v1.5-7b-MMMU-epoch-10\",\n",
    "]\n",
    "model_results_map = {\n",
    "    model: {\n",
    "        \"_\".join(key.split(\"_\")[:-1]): value\n",
    "        for key, value in results.items()\n",
    "    }\n",
    "    for model in llava_eval_models\n",
    "    if (results := json.load(open(f\"inference_results/{model}/output_datasets_all.json\")))\n",
    "}"
   ]
  },
  {
   "cell_type": "code",
   "execution_count": 9,
   "id": "b9c4562c-a827-4ea3-b9aa-2416208891f7",
   "metadata": {},
   "outputs": [],
   "source": [
    "split = \"test\"\n",
    "for dataset_name in train_val_datasets:\n",
    "    dataset_path = os.path.join(\"data/processed_data\", dataset_name, f'converted_output_{split}.json')\n",
    "\n",
    "    if os.path.exists(dataset_path):\n",
    "        with open(dataset_path, 'r') as f:\n",
    "            data = json.load(f)\n",
    "    else:\n",
    "        print(f'{dataset_path} do not exist')\n",
    "        continue\n",
    "\n",
    "    for doc in data:\n",
    "        test_outputs[\"id\"].append(f\"{dataset_name}_{doc['id']}\")\n",
    "        # test_outputs[\"pred\"].append(doc[\"conversations\"][-1][\"value\"])\n",
    "        answer = \"dummy\"\n",
    "        for model in llava_eval_models:\n",
    "            if (model_answer := model_results_map[model].get(f\"{dataset_name}_{doc['id']}\")) is not None:\n",
    "                answer = model_answer\n",
    "                break\n",
    "        if answer == \"dummy\":\n",
    "            for inference_results_source in inference_results_sources:\n",
    "                filename = f\"inference_results/{inference_results_source}/{dataset_name}_{doc['id']}.txt\"\n",
    "                if os.path.exists(filename):\n",
    "                    with open(filename, \"r\") as f:\n",
    "                        answer = f.read().strip().replace(\"\\n\", \" \")\n",
    "                    break\n",
    "        if answer.strip() == \"\":\n",
    "            answer = \"dummy\"\n",
    "        test_outputs[\"pred\"].append(answer)\n",
    "        test_outputs[\"split\"].append(\"public\")"
   ]
  },
  {
   "cell_type": "code",
   "execution_count": null,
   "id": "8986f3bb-ca70-44c4-acd7-4c5af0565c02",
   "metadata": {},
   "outputs": [],
   "source": []
  },
  {
   "cell_type": "code",
   "execution_count": 10,
   "id": "6f9e9dbe-7274-44ba-9480-6cd9c05f1305",
   "metadata": {},
   "outputs": [],
   "source": [
    "df = pd.DataFrame(test_outputs)"
   ]
  },
  {
   "cell_type": "code",
   "execution_count": 11,
   "id": "53413b73-7769-4002-8b1b-2fadb6842670",
   "metadata": {},
   "outputs": [
    {
     "data": {
      "text/plain": [
       "3028"
      ]
     },
     "execution_count": 11,
     "metadata": {},
     "output_type": "execute_result"
    }
   ],
   "source": [
    "len(df)"
   ]
  },
  {
   "cell_type": "code",
   "execution_count": 12,
   "id": "053fbeee-741e-480c-9754-60759621aff1",
   "metadata": {},
   "outputs": [],
   "source": [
    "df.to_csv(\"test_output_8.csv\", index=False, errors=\"strict\")"
   ]
  },
  {
   "cell_type": "code",
   "execution_count": null,
   "id": "b7df53e9-87a7-42b9-86fd-7a32bb2861ed",
   "metadata": {},
   "outputs": [],
   "source": []
  },
  {
   "cell_type": "code",
   "execution_count": null,
   "id": "1a9708b3",
   "metadata": {},
   "outputs": [],
   "source": []
  }
 ],
 "metadata": {
  "kernelspec": {
   "display_name": "Python 3 (ipykernel)",
   "language": "python",
   "name": "python3"
  },
  "language_info": {
   "codemirror_mode": {
    "name": "ipython",
    "version": 3
   },
   "file_extension": ".py",
   "mimetype": "text/x-python",
   "name": "python",
   "nbconvert_exporter": "python",
   "pygments_lexer": "ipython3",
   "version": "3.10.14"
  }
 },
 "nbformat": 4,
 "nbformat_minor": 5
}
