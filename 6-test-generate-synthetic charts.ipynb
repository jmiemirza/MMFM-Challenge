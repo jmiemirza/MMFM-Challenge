{
 "cells": [
  {
   "cell_type": "markdown",
   "id": "9a9cffad",
   "metadata": {},
   "source": [
    "# Code for Generating Synthetic Charts\n",
    "\n",
    "Source: ChatGPT"
   ]
  },
  {
   "cell_type": "code",
   "execution_count": null,
   "id": "0657c581-5c53-4d4d-89fe-3086d86bd51d",
   "metadata": {},
   "outputs": [],
   "source": [
    "import matplotlib.pyplot as plt\n",
    "import numpy as np\n",
    "\n",
    "# Data\n",
    "categories = ['Category A', 'Category B', 'Category C', 'Category D']\n",
    "bar_width = 0.1\n",
    "bar_locs = np.arange(len(categories))\n",
    "\n",
    "# Synthetic data for 8 different categories\n",
    "data = {\n",
    "    'Group 1': [300000, 250000, 150000, 200000],\n",
    "    'Group 2': [100000, 200000, 120000, 150000],\n",
    "    'Group 3': [-100000, -50000, -90000, -80000],\n",
    "    'Group 4': [50000, 30000, 20000, 40000],\n",
    "    'Group 5': [200000, 300000, 100000, 150000],\n",
    "    'Group 6': [120000, 150000, 130000, 180000],\n",
    "    'Group 7': [180000, 200000, 150000, 100000],\n",
    "    'Group 8': [90000, 120000, 110000, 140000]\n",
    "}\n",
    "\n",
    "# Creating bar positions\n",
    "positions = [bar_locs + i * bar_width for i in range(len(data))]\n",
    "\n",
    "# Plotting\n",
    "fig, ax = plt.subplots()\n",
    "\n",
    "# Color scheme\n",
    "colors = ['gray', 'lime', 'blue', 'red', 'pink', 'green', 'cyan', 'orange']\n",
    "\n",
    "for bar_pos, (label, values), color in zip(positions, data.items(), colors):\n",
    "    ax.bar(bar_pos, values, width=bar_width, label=label, color=color)\n",
    "\n",
    "# Mark the x axis with the category names\n",
    "ax.set_xticks(bar_locs + bar_width * (len(data) - 1) / 2)\n",
    "ax.set_xticklabels(categories, rotation=60, ha='right')\n",
    "\n",
    "# Title and labels\n",
    "ax.set_title('Synthetic Data Vertical Bar Chart')\n",
    "ax.set_xlabel('Categories')\n",
    "ax.set_ylabel('Values')\n",
    "\n",
    "# Legend outside of the plot\n",
    "ax.legend(loc='center left', bbox_to_anchor=(1, 0.5))\n",
    "\n",
    "plt.tight_layout()\n",
    "plt.show()"
   ]
  },
  {
   "cell_type": "code",
   "execution_count": null,
   "id": "76b7f598-bce7-4c67-a478-cab83c69fc2c",
   "metadata": {},
   "outputs": [],
   "source": []
  }
 ],
 "metadata": {
  "kernelspec": {
   "display_name": "Python 3 (ipykernel)",
   "language": "python",
   "name": "python3"
  },
  "language_info": {
   "codemirror_mode": {
    "name": "ipython",
    "version": 3
   },
   "file_extension": ".py",
   "mimetype": "text/x-python",
   "name": "python",
   "nbconvert_exporter": "python",
   "pygments_lexer": "ipython3",
   "version": "3.10.9"
  }
 },
 "nbformat": 4,
 "nbformat_minor": 5
}
