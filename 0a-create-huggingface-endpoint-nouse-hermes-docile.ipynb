{
 "cells": [
  {
   "cell_type": "markdown",
   "id": "f1d22b7e",
   "metadata": {},
   "source": [
    "# Create Inference Endpoint on Huggingface for NousHermes 2 Pro - Mistral 7B Finetuned on the DocILE dataset"
   ]
  },
  {
   "cell_type": "markdown",
   "id": "238dbb96",
   "metadata": {},
   "source": [
    "Note: you might need to update `huggingface_hub` to the latest version with `pip install -U huggingface_hubg` to run this notebook.\n",
    "\n",
    "Then, login to your Huggingface account with: `!huggingface-cli login`"
   ]
  },
  {
   "cell_type": "code",
   "execution_count": 8,
   "id": "d90b5c9e-960f-418e-8fef-b9a8b10f8f60",
   "metadata": {},
   "outputs": [],
   "source": [
    "import huggingface_hub\n",
    "from huggingface_hub import create_inference_endpoint"
   ]
  },
  {
   "cell_type": "markdown",
   "id": "8501a046",
   "metadata": {},
   "source": [
    "## Create Inference Endpoint on Huggingface\n",
    "\n",
    "Note that this costs $4 per hour."
   ]
  },
  {
   "cell_type": "code",
   "execution_count": 6,
   "id": "e9c2f87e-172c-4366-9ee1-a4117846315a",
   "metadata": {},
   "outputs": [],
   "source": [
    "# repository = \"HuggingFaceM4/idefics2-8b\"\n",
    "# endpoint_name = \"idefics2-8b-00\"\n",
    "# repository = \"llava-hf/llava-v1.6-vicuna-13b-hf\"\n",
    "# endpoint_name = \"llava-v1-6-vicuna-13b-hf-9ah\"\n",
    "# repository = \"google/paligemma-3b-mix-448\"\n",
    "# endpoint_name = \"paligemma-3b-mix-448-kqj\"\n",
    "repository = \"leloy/Nous-Hermes-2-Pro-Docile-RASG-1ShotRetrieval-StructuredPrompt\"\n",
    "enpoint_name = \"nous-hermes-2-pro-docile-ras-hxh\"\n",
    "namespace = \"leloy\""
   ]
  },
  {
   "cell_type": "code",
   "execution_count": null,
   "id": "ab6036cf-f645-4e0f-b045-4e4541d6f27a",
   "metadata": {},
   "outputs": [],
   "source": [
    "endpoint = create_inference_endpoint(\n",
    "    endpoint_name,\n",
    "    repository=repository,\n",
    "    # namespace=namespace,\n",
    "    framework=\"pytorch\",\n",
    "    task=\"text-generation\",\n",
    "    accelerator=\"gpu\",\n",
    "    vendor=\"aws\",\n",
    "    region=\"us-east-1\",\n",
    "    type=\"protected\",\n",
    "    instance_size=\"x4\",  #\"medium\", \n",
    "    instance_type=\"nvidia-t4\",  #\"g5.2xlarge\",\n",
    "    min_replica=0,\n",
    "    max_replica=1,\n",
    "    custom_image={\n",
    "        \"health_route\": \"/health\",\n",
    "        \"env\": {\n",
    "            \"MAX_BATCH_PREFILL_TOKENS\": \"4096\",\n",
    "            \"MAX_INPUT_LENGTH\": \"3072\",\n",
    "            \"MAX_TOTAL_TOKENS\": \"8192\",\n",
    "            \"MODEL_ID\": \"/repository\"\n",
    "        },\n",
    "        # If you receive an error, try upgrading or downgrading the TGI image\n",
    "        \"url\": \"ghcr.io/huggingface/text-generation-inference:2.0.3\",\n",
    "    },\n",
    "    token=huggingface_hub.get_token(),\n",
    ")\n",
    "\n",
    "endpoint.wait()\n",
    "print(endpoint.status)"
   ]
  },
  {
   "cell_type": "markdown",
   "id": "5e2f999f",
   "metadata": {},
   "source": [
    "## Test"
   ]
  },
  {
   "cell_type": "code",
   "execution_count": 31,
   "id": "95c0eced",
   "metadata": {},
   "outputs": [],
   "source": [
    "import os\n",
    "import requests\n",
    "\n",
    "import json\n",
    "import pandas as pd\n",
    "import huggingface_hub\n",
    "from transformers import AutoTokenizer"
   ]
  },
  {
   "cell_type": "code",
   "execution_count": null,
   "id": "cd75d7f2",
   "metadata": {},
   "outputs": [],
   "source": []
  },
  {
   "cell_type": "code",
   "execution_count": 22,
   "id": "bc8aecd1",
   "metadata": {},
   "outputs": [
    {
     "name": "stdout",
     "output_type": "stream",
     "text": [
      "data/raw_datasets/mydoc/annot_wo_answer.json\n"
     ]
    }
   ],
   "source": [
    "dataset_name = \"mydoc\"\n",
    "dataset_path = os.path.join(\"data/raw_datasets\", dataset_name, \"annot_wo_answer.json\")\n",
    "print(dataset_path)\n",
    "assert os.path.exists(dataset_path)\n",
    "\n",
    "df_data = pd.read_json(dataset_path)"
   ]
  },
  {
   "cell_type": "code",
   "execution_count": null,
   "id": "f71a5f98",
   "metadata": {},
   "outputs": [],
   "source": [
    "id = df_data.iloc[0][\"id\"]\n",
    "image_path = df_data.iloc[0][\"image\"]\n",
    "question = df_data.iloc[0][\"conversations\"][0][\"value\"]\n",
    "id, image_path, question"
   ]
  },
  {
   "cell_type": "code",
   "execution_count": null,
   "id": "88fb422e",
   "metadata": {},
   "outputs": [],
   "source": [
    "image_path"
   ]
  },
  {
   "cell_type": "code",
   "execution_count": 29,
   "id": "76170436",
   "metadata": {},
   "outputs": [],
   "source": [
    "key = \"order_description\""
   ]
  },
  {
   "cell_type": "code",
   "execution_count": 38,
   "id": "09cc8c5f",
   "metadata": {},
   "outputs": [],
   "source": [
    "dataset_name = \"mydoc\"\n",
    "surya_results_mydoc = json.load(\n",
    "    open(\n",
    "        f\"inference_results/surya/{dataset_name}/surya/{dataset_name}/images/results.json\",\n",
    "        \"r\",\n",
    "    )\n",
    ")"
   ]
  },
  {
   "cell_type": "code",
   "execution_count": 56,
   "id": "ee1dfd5c",
   "metadata": {},
   "outputs": [],
   "source": [
    "def get_surya_ocr_text(image_path: str) -> str:\n",
    "    surya_ocr = surya_results_mydoc[image_path[:-4]]\n",
    "    surya_text = \"\\n\".join(line[\"text\"] for line in surya_ocr[0][\"text_lines\"])\n",
    "    return surya_text"
   ]
  },
  {
   "cell_type": "code",
   "execution_count": null,
   "id": "c3593495",
   "metadata": {},
   "outputs": [],
   "source": [
    "tokenizer = AutoTokenizer.from_pretrained(\n",
    "    repository, trust_remote_code=True\n",
    ")"
   ]
  },
  {
   "cell_type": "code",
   "execution_count": 58,
   "id": "60500b36",
   "metadata": {},
   "outputs": [],
   "source": [
    "SYSTEM_PROMPT_FORMAT = \"You are a helpful assistant that answers in JSON. Here's the json schema you must adhere to:\\n<schema>\\n<json_schema>\\n<schema>\""
   ]
  },
  {
   "cell_type": "code",
   "execution_count": 59,
   "id": "f7a8a0ea",
   "metadata": {},
   "outputs": [],
   "source": [
    "question = \"What is the name of candidate in the document?\""
   ]
  },
  {
   "cell_type": "code",
   "execution_count": 60,
   "id": "895f7a80",
   "metadata": {},
   "outputs": [],
   "source": [
    "json_format = {key: {\"type\": \"string\"}}"
   ]
  },
  {
   "cell_type": "code",
   "execution_count": null,
   "id": "edbd1cb5",
   "metadata": {},
   "outputs": [],
   "source": [
    "messages = [\n",
    "    {\n",
    "        \"role\": \"system\",\n",
    "        \"content\": SYSTEM_PROMPT_FORMAT.replace(\"<json_schema>\", json.dumps(json_format)),\n",
    "    },\n",
    "    {\n",
    "        \"role\": \"user\",\n",
    "        \"content\": get_surya_ocr_text(image_path),\n",
    "    }\n",
    "]\n",
    "messages"
   ]
  },
  {
   "cell_type": "code",
   "execution_count": 62,
   "id": "02fa06f4",
   "metadata": {},
   "outputs": [
    {
     "data": {
      "text/plain": [
       "'<|im_start|>system\\nYou are a helpful assistant that answers in JSON. Here\\'s the json schema you must adhere to:\\n<schema>\\n{\"order_description\": {\"type\": \"string\"}}\\n<schema><|im_end|>\\n<|im_start|>user\\nSUMMARY FOR SYSCODE 3271\\nTraffic Order #\\n12241669\\nCreated On\\n5/3/2023 12:42:25 PM\\nOrder Status\\nContract Confirmed \\nOrder #\\n3921553\\nCreated By\\nReitler, Matthew\\nSyscode Gross $ \\n150.00\\nPOL-Candidate-FRIENDS OF ELECTRA\\nOrder Descrp\\nUpdated On\\n5/3/2023 1:10:33 PM\\nSyscode Net $\\n127.50\\nJANIS - WHL\\nFRIENDS OF ELECTRA JANIS - WHL\\nClient\\n| Updated By\\neClerx BOT\\nSyscode Units\\nStart Date\\n5/7/2023\\nSource\\nVIEW\\nZone Status\\nContract Confirmed\\nEnd Date\\n5/14/2023\\n Zones\\nWeirton  WV\\nAvg Unit Rate\\n75.00\\n# of Weeks\\n2\\nUnique\\nTr Ln\\nParent\\nRev\\nPriority\\nNetwork\\nSys\\nProgram\\nStart\\n End\\nDaypart\\nSa  Su\\nTotal\\n Unit\\nTotal\\nUnit\\nM\\n Tu W Th F\\nLine#\\n Code\\nDate\\nDate\\nUnits\\nAmount\\nLn #\\n Code\\nRate\\nLen\\n#\\n110 |\\nAT&T Sports\\n3271\\nPittsburgh Pirates vs\\n05/07/2023\\n05/07/2023\\nSu 1:30p-\\n$75.00\\n$75.00\\n30\\nReta\\n1\\nX\\n1\\n1\\nToronto Blue Jays\\nNetworks\\n4:30p\\n110\\nil\\nPoliti\\nPittsburgh\\ncal\\nBun\\ndle\\nAT&T Sports\\n3271\\nPittsburgh Pirates at\\n05/14/2023\\n05/14/2023\\nSu 1:30p-\\n$75.00\\n$75.00\\n30\\n2\\n2\\n Reta\\n110 |\\nX\\n1\\n110\\nNetworks\\nBaltimore Orioles\\n4:30p\\nil\\nPittsburgh\\nPoliti\\ncal\\nBun\\ndle\\nContract Data (Traffic) Report\\nPrinted On 5/4/2023 12:39:08 PM\\nPage 2 of 4\\nPrinted By Marryat, Derek\\n**Nielsen Audience Estimates Copyright ©2014 The Nielsen Company, used under license, all rights reserved<|im_end|>\\n<|im_start|>assistant\\n'"
      ]
     },
     "execution_count": 62,
     "metadata": {},
     "output_type": "execute_result"
    }
   ],
   "source": [
    "prompt = tokenizer.apply_chat_template(\n",
    "    messages,\n",
    "    tokenize=False,\n",
    "    add_generation_prompt=True,\n",
    ")\n",
    "prompt"
   ]
  },
  {
   "cell_type": "code",
   "execution_count": null,
   "id": "878636f6",
   "metadata": {},
   "outputs": [],
   "source": []
  },
  {
   "cell_type": "code",
   "execution_count": 63,
   "id": "75e6d0b6",
   "metadata": {},
   "outputs": [],
   "source": [
    "API_URL = \"https://asreb1rtjp81xsv2.us-east-1.aws.endpoints.huggingface.cloud\"\n",
    "headers = {\n",
    "\t\"Accept\" : \"application/json\",\n",
    "\t\"Authorization\": f\"Bearer {huggingface_hub.get_token()}\",\n",
    "\t\"Content-Type\": \"application/json\" \n",
    "}\n",
    "\n",
    "def query(payload):\n",
    "\tresponse = requests.post(API_URL, headers=headers, json=payload)\n",
    "\treturn response.json()\n",
    "\n",
    "\n",
    "output = query({\n",
    "\t\"inputs\": prompt,\n",
    "\t\"parameters\": {\n",
    "\t\t\"return_full_text\": False,\n",
    "\t\t\"max_new_tokens\": 32,\n",
    "\t\t\"grammar\": {\n",
    "            \"type\": \"json\",\n",
    "            \"value\": {\n",
    "                \"properties\": {\n",
    "                    key: {\n",
    "                        \"type\": \"string\",\n",
    "                    },\n",
    "                },\n",
    "                \"required\": [key]\n",
    "            }\n",
    "        }\n",
    "\t}\n",
    "})"
   ]
  },
  {
   "cell_type": "code",
   "execution_count": 64,
   "id": "0812b358",
   "metadata": {},
   "outputs": [
    {
     "data": {
      "text/plain": [
       "[{'generated_text': '{\"order_description\": \"FRIENDS OF ELECTRA JANIS - WHL\"}'}]"
      ]
     },
     "execution_count": 64,
     "metadata": {},
     "output_type": "execute_result"
    }
   ],
   "source": [
    "output"
   ]
  },
  {
   "cell_type": "code",
   "execution_count": null,
   "id": "70f380be",
   "metadata": {},
   "outputs": [],
   "source": []
  }
 ],
 "metadata": {
  "kernelspec": {
   "display_name": "Python 3 (ipykernel)",
   "language": "python",
   "name": "python3"
  },
  "language_info": {
   "codemirror_mode": {
    "name": "ipython",
    "version": 3
   },
   "file_extension": ".py",
   "mimetype": "text/x-python",
   "name": "python",
   "nbconvert_exporter": "python",
   "pygments_lexer": "ipython3",
   "version": "3.10.14"
  }
 },
 "nbformat": 4,
 "nbformat_minor": 5
}
