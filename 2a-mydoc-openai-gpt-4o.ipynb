{
 "cells": [
  {
   "cell_type": "markdown",
   "id": "345b6ee0",
   "metadata": {},
   "source": [
    "# Document Understanding with GPT-4o and Tool Use (aka Structured Generation)"
   ]
  },
  {
   "cell_type": "markdown",
   "id": "e456d84b",
   "metadata": {},
   "source": [
    "NOTE: NOT ELIGIBLE FOR USE IN THE CHALLENGE"
   ]
  },
  {
   "cell_type": "code",
   "execution_count": 1,
   "id": "26863094-ae01-4324-a0dc-922d1735f713",
   "metadata": {
    "scrolled": true
   },
   "outputs": [],
   "source": [
    "!pip install -q openai"
   ]
  },
  {
   "cell_type": "code",
   "execution_count": 1,
   "id": "9f6a6e10-6fb4-4675-b4ae-992b51e7f1e9",
   "metadata": {},
   "outputs": [],
   "source": [
    "import os\n",
    "import json\n",
    "import base64\n",
    "\n",
    "import pandas as pd"
   ]
  },
  {
   "cell_type": "code",
   "execution_count": 2,
   "id": "1361a76c-1633-477d-b14c-8a6350d314db",
   "metadata": {},
   "outputs": [],
   "source": [
    "from openai import OpenAI\n",
    "client = OpenAI(api_key=\"sk-<secret>\")"
   ]
  },
  {
   "cell_type": "code",
   "execution_count": null,
   "id": "1380920c-e657-47b0-9de0-54e08336d35b",
   "metadata": {},
   "outputs": [],
   "source": []
  },
  {
   "cell_type": "code",
   "execution_count": 3,
   "id": "ca6db93e-fc62-4319-883c-611747cedce4",
   "metadata": {},
   "outputs": [],
   "source": [
    "def convert_image_to_base64(image_path: str):\n",
    "    with open(image_path, \"rb\") as f:\n",
    "        encoded_image = base64.b64encode(f.read())\n",
    "    return encoded_image.decode(\"utf-8\")"
   ]
  },
  {
   "cell_type": "code",
   "execution_count": 47,
   "id": "95176edf-64bc-4d1b-89f7-65d87e688010",
   "metadata": {},
   "outputs": [],
   "source": [
    "def extract_key_from_question(question: str) -> str:\n",
    "    question = \" \".join(question.split(\" \"))\n",
    "    assert question.startswith(\"<image>\\nWhat is the \")\n",
    "    assert question.endswith(\" in the image?\")\n",
    "    key = question[len(\"<image>\\nWhat is the \"):-len(\" in the image?\")]\n",
    "    if key.startswith(\"[\") or key.startswith(\"‘\"):\n",
    "        key = key[1:]\n",
    "    if key.endswith(\"?\"):\n",
    "        key = key[:-1]\n",
    "    return key.replace(\" \", \"_\").replace(\"=\", \"equals\")"
   ]
  },
  {
   "cell_type": "code",
   "execution_count": 48,
   "id": "96df3592-fc0a-421b-8a03-88e76aa537e7",
   "metadata": {},
   "outputs": [],
   "source": [
    "def build_doc_extraction_tool(key: str):\n",
    "    return {\n",
    "        \"type\": \"function\",\n",
    "        \"function\": {\n",
    "            \"name\": \"doc_extraction_tool\",\n",
    "            \"description\": \"Extract information from a document\",\n",
    "            \"parameters\": {\n",
    "                \"type\": \"object\",\n",
    "                \"properties\": {\n",
    "                    \"reasoning\": {\"type\": \"string\"},\n",
    "                    f\"{key}\": {\n",
    "                        \"type\": \"integer\" if key == \"page\" else \"string\",\n",
    "                        \"description\": \"Concise answer to the user question, exactly as it appears in the document.\"\n",
    "                    }\n",
    "                },\n",
    "                \"required\": [\"reasoning\", f\"{key}\"],\n",
    "            },\n",
    "        }\n",
    "    }"
   ]
  },
  {
   "cell_type": "code",
   "execution_count": 49,
   "id": "95659208-a3c1-43d1-bad2-afe7e08bf11e",
   "metadata": {},
   "outputs": [],
   "source": [
    "SYSTEM_PROMPT = \"You are a document information extractor. You get an image as an input and you must answer the user's question from the data you extract from the image. Output in json format.\""
   ]
  },
  {
   "cell_type": "code",
   "execution_count": 50,
   "id": "c3adc673-89aa-42e0-856a-dc6bcbaced9a",
   "metadata": {},
   "outputs": [],
   "source": [
    "def run_inference(image_path, question, model=\"gpt-4o-2024-05-13\", seed=0):\n",
    "    image_base64 = convert_image_to_base64(image_path)\n",
    "    key = extract_key_from_question(question)\n",
    "    print(f\"{key = }\")\n",
    "    if key == \"\":\n",
    "        return \"This question is unanswerable.\"\n",
    "    tool = build_doc_extraction_tool(key)\n",
    "    response = client.chat.completions.create(\n",
    "        model=model,\n",
    "        messages=[\n",
    "            {\n",
    "                \"role\": \"system\",\n",
    "                \"content\": [\n",
    "                    {\n",
    "                        \"type\": \"text\",\n",
    "                        \"text\": SYSTEM_PROMPT,\n",
    "                    }\n",
    "                ]\n",
    "            },\n",
    "            {\n",
    "                \"role\": \"user\",\n",
    "                \"content\": [\n",
    "                    {\n",
    "                        \"type\": \"image_url\",\n",
    "                        \"image_url\": {\"url\": f\"data:image/png;base64,{image_base64}\"},\n",
    "                    },\n",
    "                    {\n",
    "                        \"type\": \"text\",\n",
    "                        \"text\": question,\n",
    "                    }\n",
    "                ]\n",
    "            },\n",
    "        ],\n",
    "        temperature = 1,\n",
    "        # max_tokens=256,\n",
    "        seed=seed,\n",
    "        top_p = 1,\n",
    "        frequency_penalty = 0,\n",
    "        presence_penalty = 0,\n",
    "        tools = [tool],\n",
    "        tool_choice = {\n",
    "            \"type\": \"function\",\n",
    "            \"function\": {\"name\": tool[\"function\"][\"name\"]},\n",
    "        },\n",
    "    )\n",
    "    response_args = response.choices[0].message.tool_calls[0].function.arguments\n",
    "    print(f\"{response_args = }\")\n",
    "    return json.loads(response_args)[key]"
   ]
  },
  {
   "cell_type": "code",
   "execution_count": null,
   "id": "2c9d0f95-e0b1-4c12-8d9d-b9c495a594b5",
   "metadata": {},
   "outputs": [],
   "source": []
  },
  {
   "cell_type": "code",
   "execution_count": 31,
   "id": "5c314253-ca29-409d-94ee-83e2c252d1f6",
   "metadata": {},
   "outputs": [],
   "source": [
    "image_path = \"data/raw_datasets/mydoc/images/dba9cdb7f30849824f654f41b01a69893e1fde4ca9d6d5ecfb5427a0e3b4158e.png\""
   ]
  },
  {
   "cell_type": "code",
   "execution_count": 32,
   "id": "e3f6a09f-0570-48f8-89d7-f271140d7060",
   "metadata": {
    "scrolled": true
   },
   "outputs": [
    {
     "name": "stdout",
     "output_type": "stream",
     "text": [
      "key = 'po_number'\n",
      "response_args = '{\"reasoning\":\"The PO Number is typically located in the summary sections of invoices or orders. This image contains a \\'COMMERCIAL SUMMARY\\' section where such details are provided.\",\"po_number\":\"MULTI/3104\"}'\n"
     ]
    },
    {
     "data": {
      "text/plain": [
       "'MULTI/3104'"
      ]
     },
     "execution_count": 32,
     "metadata": {},
     "output_type": "execute_result"
    }
   ],
   "source": [
    "run_inference(image_path, \"<image>\\nWhat is the po number in the image?\")"
   ]
  },
  {
   "cell_type": "code",
   "execution_count": null,
   "id": "e538d93d-ac45-4aff-8300-93842565aff3",
   "metadata": {},
   "outputs": [],
   "source": []
  },
  {
   "cell_type": "code",
   "execution_count": 33,
   "id": "e59a7cb6-948e-4b0e-be15-278a40898f47",
   "metadata": {},
   "outputs": [
    {
     "name": "stdout",
     "output_type": "stream",
     "text": [
      "data/raw_datasets/mydoc/annot_wo_answer.json\n"
     ]
    }
   ],
   "source": [
    "dataset_name = \"mydoc\"\n",
    "dataset_path = os.path.join(\"data/raw_datasets\", dataset_name, \"annot_wo_answer.json\")\n",
    "print(dataset_path)\n",
    "assert os.path.exists(dataset_path)\n",
    "\n",
    "df_data = pd.read_json(dataset_path)"
   ]
  },
  {
   "cell_type": "code",
   "execution_count": 34,
   "id": "818b75ab-750c-46db-ac23-ea519a95c58d",
   "metadata": {},
   "outputs": [],
   "source": [
    "!mkdir -p inference_results/gpt-4o"
   ]
  },
  {
   "cell_type": "code",
   "execution_count": null,
   "id": "e2d72941-14b2-4178-8635-68ccb5764afb",
   "metadata": {},
   "outputs": [],
   "source": [
    "failed_idx = set()\n",
    "for idx, row in df_data.iterrows():\n",
    "    id = row[\"id\"]\n",
    "    answer_txt_path = f\"inference_results/gpt-4o/{id}.txt\"\n",
    "\n",
    "    image_path = f\"data/raw_datasets/{dataset_name}/images/{row['image']}\"\n",
    "    question = row[\"conversations\"][0][\"value\"]\n",
    "\n",
    "    if os.path.exists(answer_txt_path) and \"page\" not in question:\n",
    "        continue\n",
    "    print(id, idx, question)\n",
    "\n",
    "    try:\n",
    "        answer = run_inference(image_path, question)\n",
    "        with open(answer_txt_path, \"w\") as f:\n",
    "            f.write(str(answer))\n",
    "    except Exception as e:\n",
    "        print(\"ERROR\", idx, row, e)\n",
    "        failed_idx.add(idx)\n",
    "    print(\"---------\")"
   ]
  },
  {
   "cell_type": "code",
   "execution_count": 37,
   "id": "2a704a27-2df0-47d5-ae5e-7735b4484c6e",
   "metadata": {},
   "outputs": [
    {
     "data": {
      "text/plain": [
       "set()"
      ]
     },
     "execution_count": 37,
     "metadata": {},
     "output_type": "execute_result"
    }
   ],
   "source": [
    "failed_idx = set(failed_idx)\n",
    "failed_idx"
   ]
  },
  {
   "cell_type": "code",
   "execution_count": 51,
   "id": "9cc68ddf-3d15-4c36-bc95-9d3e5a855323",
   "metadata": {},
   "outputs": [],
   "source": [
    "for idx, row in df_data.iterrows():\n",
    "    id = row[\"id\"]\n",
    "    answer_txt_path = f\"inference_results/gpt-4o/{id}.txt\"\n",
    "    if not os.path.exists(answer_txt_path):\n",
    "        failed_idx.add(idx)\n",
    "        continue\n",
    "\n",
    "    with open(answer_txt_path, \"r\") as f:\n",
    "        answer = f.read()\n",
    "\n",
    "    if len(answer) >= 50:\n",
    "        failed_idx.add(idx)"
   ]
  },
  {
   "cell_type": "code",
   "execution_count": 52,
   "id": "d89d345b-d645-4712-b0aa-8e7b69862f5d",
   "metadata": {},
   "outputs": [
    {
     "data": {
      "text/plain": [
       "{115, 220, 243, 251, 318, 335, 391}"
      ]
     },
     "execution_count": 52,
     "metadata": {},
     "output_type": "execute_result"
    }
   ],
   "source": [
    "failed_idx"
   ]
  },
  {
   "cell_type": "code",
   "execution_count": null,
   "id": "237dbb13-977f-423e-abeb-d3acf887b17c",
   "metadata": {},
   "outputs": [],
   "source": [
    "df_data.iloc[list(failed_idx)]"
   ]
  },
  {
   "cell_type": "code",
   "execution_count": null,
   "id": "5a0ec922-28ad-4a87-b59b-2fe47310a692",
   "metadata": {},
   "outputs": [],
   "source": [
    "failed_idx_2 = set()\n",
    "for idx, row in df_data.iloc[list(failed_idx)].iterrows():\n",
    "    id = row[\"id\"]\n",
    "    answer_txt_path = f\"inference_results/gpt-4o/{id}.txt\"\n",
    "    if os.path.exists(answer_txt_path):\n",
    "        os.remove(answer_txt_path)\n",
    "    print(id, idx)\n",
    "\n",
    "    image_path = f\"data/raw_datasets/{dataset_name}/images/{row['image']}\"\n",
    "    question = row[\"conversations\"][0][\"value\"]\n",
    "\n",
    "    try:\n",
    "        answer = run_inference(image_path, question, seed=42)\n",
    "        with open(answer_txt_path, \"w\") as f:\n",
    "            f.write(answer)\n",
    "    except Exception as e:\n",
    "        print(idx, row, e)\n",
    "        failed_idx_2.add(idx)"
   ]
  },
  {
   "cell_type": "code",
   "execution_count": 42,
   "id": "2bc41de8-07ec-4f65-a626-9968d01d90c2",
   "metadata": {},
   "outputs": [
    {
     "data": {
      "text/plain": [
       "{220}"
      ]
     },
     "execution_count": 42,
     "metadata": {},
     "output_type": "execute_result"
    }
   ],
   "source": [
    "failed_idx_2"
   ]
  },
  {
   "cell_type": "code",
   "execution_count": null,
   "id": "540ce9d2-2f1a-4282-bc16-d242b42a09bf",
   "metadata": {},
   "outputs": [],
   "source": [
    "df_data.iloc[220][\"image\"]"
   ]
  },
  {
   "cell_type": "code",
   "execution_count": null,
   "id": "5c3fcee5-aa2f-447e-b11b-286644feb4cb",
   "metadata": {},
   "outputs": [],
   "source": [
    "df_data.iloc[220][\"conversations\"]"
   ]
  },
  {
   "cell_type": "code",
   "execution_count": null,
   "id": "1bd7c344-8f1a-4bf7-8006-235f41b90a05",
   "metadata": {},
   "outputs": [],
   "source": []
  }
 ],
 "metadata": {
  "kernelspec": {
   "display_name": "Python 3 (ipykernel)",
   "language": "python",
   "name": "python3"
  },
  "language_info": {
   "codemirror_mode": {
    "name": "ipython",
    "version": 3
   },
   "file_extension": ".py",
   "mimetype": "text/x-python",
   "name": "python",
   "nbconvert_exporter": "python",
   "pygments_lexer": "ipython3",
   "version": "3.10.9"
  }
 },
 "nbformat": 4,
 "nbformat_minor": 5
}
