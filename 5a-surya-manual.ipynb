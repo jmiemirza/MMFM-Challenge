{
 "cells": [
  {
   "cell_type": "markdown",
   "metadata": {},
   "source": [
    "# Document OCR with Surya (Manual)"
   ]
  },
  {
   "cell_type": "markdown",
   "metadata": {},
   "source": [
    "NOTE: This is a waste of time. Use `modal_surya.py` instead:\n",
    "\n",
    "- `modal run modal_surya.py::run_surya_extraction --dataset=\"mydoc\"`\n",
    "- `modal run modal_surya.py::run_surya_extraction --dataset=\"mychart\"`\n",
    "- `modal run modal_surya.py::run_surya_extraction --dataset=\"myinfographic\"`"
   ]
  },
  {
   "cell_type": "code",
   "execution_count": 1,
   "metadata": {},
   "outputs": [
    {
     "name": "stderr",
     "output_type": "stream",
     "text": [
      "/home/leloykun/anaconda3/envs/MMFM-Challenge/lib/python3.10/site-packages/tqdm/auto.py:21: TqdmWarning: IProgress not found. Please update jupyter and ipywidgets. See https://ipywidgets.readthedocs.io/en/stable/user_install.html\n",
      "  from .autonotebook import tqdm as notebook_tqdm\n"
     ]
    }
   ],
   "source": [
    "import os\n",
    "\n",
    "import pandas as pd\n",
    "from PIL import Image\n",
    "from surya.ocr import run_ocr\n",
    "from surya.model.detection import segformer\n",
    "from surya.model.recognition.model import load_model\n",
    "from surya.model.recognition.processor import load_processor"
   ]
  },
  {
   "cell_type": "code",
   "execution_count": 2,
   "metadata": {},
   "outputs": [
    {
     "data": {
      "text/plain": [
       "[<torch.cuda.device at 0x7fd1d8eff760>]"
      ]
     },
     "execution_count": 2,
     "metadata": {},
     "output_type": "execute_result"
    }
   ],
   "source": [
    "import torch\n",
    "available_gpus = [torch.cuda.device(i) for i in range(torch.cuda.device_count())]\n",
    "available_gpus"
   ]
  },
  {
   "cell_type": "code",
   "execution_count": null,
   "metadata": {},
   "outputs": [],
   "source": []
  },
  {
   "cell_type": "code",
   "execution_count": 3,
   "metadata": {},
   "outputs": [
    {
     "name": "stderr",
     "output_type": "stream",
     "text": [
      "/home/leloykun/anaconda3/envs/MMFM-Challenge/lib/python3.10/site-packages/huggingface_hub/file_download.py:1132: FutureWarning: `resume_download` is deprecated and will be removed in version 1.0.0. Downloads always resume when possible. If you want to force a new download, use `force_download=True`.\n",
      "  warnings.warn(\n"
     ]
    },
    {
     "name": "stdout",
     "output_type": "stream",
     "text": [
      "Loaded recognition model vikp/surya_rec on device cuda with dtype torch.float16\n",
      "Loaded detection model vikp/surya_det2 on device cuda with dtype torch.float16\n"
     ]
    }
   ],
   "source": [
    "rec_model, rec_processor = load_model(), load_processor()\n",
    "det_processor, det_model = segformer.load_processor(), segformer.load_model()"
   ]
  },
  {
   "cell_type": "code",
   "execution_count": null,
   "metadata": {},
   "outputs": [],
   "source": []
  },
  {
   "cell_type": "code",
   "execution_count": 4,
   "metadata": {},
   "outputs": [
    {
     "name": "stdout",
     "output_type": "stream",
     "text": [
      "data/raw_datasets/mydoc/annot_wo_answer.json\n"
     ]
    }
   ],
   "source": [
    "dataset_name = \"mydoc\"\n",
    "dataset_path = os.path.join(\"data/raw_datasets\", dataset_name, \"annot_wo_answer.json\")\n",
    "print(dataset_path)\n",
    "assert os.path.exists(dataset_path)\n",
    "\n",
    "df_data = pd.read_json(dataset_path)"
   ]
  },
  {
   "cell_type": "code",
   "execution_count": 5,
   "metadata": {},
   "outputs": [],
   "source": [
    "BATCH_SIZE = 2\n",
    "LANGS = [\"en\", \"ar\"]"
   ]
  },
  {
   "cell_type": "code",
   "execution_count": null,
   "metadata": {},
   "outputs": [],
   "source": [
    "BATCH_SIZE = 2\n",
    "LANGS = [\"en\", \"ar\"] # Replace with your languages\n",
    "\n",
    "for i in range(0, len(df_data), BATCH_SIZE):\n",
    "    batch = df_data[i:i+BATCH_SIZE]\n",
    "    ids = [\n",
    "        row[\"id\"]\n",
    "        for _, row in batch.iterrows()\n",
    "    ]\n",
    "    images = [\n",
    "        Image.open(f\"data/raw_datasets/{dataset_name}/images/{row['image']}\")\n",
    "        for _, row in batch.iterrows()\n",
    "    ]\n",
    "    print(ids)\n",
    "\n",
    "\n",
    "    predictions = run_ocr(\n",
    "        images, [LANGS]*BATCH_SIZE,\n",
    "        det_model, det_processor, rec_model, rec_processor,\n",
    "    )\n",
    "    for prediction in predictions:\n",
    "        print(prediction)\n",
    "\n",
    "    texts = [\n",
    "        \" \".join(line.text for line in prediction.text_lines)\n",
    "        for prediction in predictions\n",
    "    ]\n",
    "\n",
    "    for id, text, prediction in zip(ids, texts, predictions):\n",
    "        with open(f\"data/raw_datasets/{dataset_name}/surya/{id}.txt\", \"w\") as f:\n",
    "            f.write(text)\n",
    "        with open(f\"data/raw_datasets/{dataset_name}/surya/{id}.json\", \"w\") as f:\n",
    "            f.write(prediction.json())"
   ]
  },
  {
   "cell_type": "code",
   "execution_count": null,
   "metadata": {},
   "outputs": [],
   "source": []
  },
  {
   "cell_type": "code",
   "execution_count": null,
   "metadata": {},
   "outputs": [],
   "source": []
  },
  {
   "cell_type": "code",
   "execution_count": 7,
   "metadata": {},
   "outputs": [
    {
     "name": "stderr",
     "output_type": "stream",
     "text": [
      "Detecting bboxes:   4%|▎         | 1/28 [01:53<51:13, 113.83s/it]"
     ]
    }
   ],
   "source": [
    "predictions = run_ocr(\n",
    "    images, [LANGS]*len(images),\n",
    "    det_model, det_processor, rec_model, rec_processor,\n",
    "    batch_size=BATCH_SIZE,\n",
    ")"
   ]
  },
  {
   "cell_type": "code",
   "execution_count": null,
   "metadata": {},
   "outputs": [],
   "source": [
    "texts = [\n",
    "    \" \".join(line.text for line in prediction.text_lines)\n",
    "    for prediction in predictions\n",
    "]\n",
    "\n",
    "for id, text, prediction in zip(ids, texts, predictions):\n",
    "    with open(f\"data/raw_datasets/{dataset_name}/surya/{id}.txt\", \"w\") as f:\n",
    "        f.write(text)\n",
    "    with open(f\"data/raw_datasets/{dataset_name}/surya/{id}.json\", \"w\") as f:\n",
    "        f.write(prediction.json())"
   ]
  },
  {
   "cell_type": "code",
   "execution_count": null,
   "metadata": {},
   "outputs": [],
   "source": []
  },
  {
   "cell_type": "code",
   "execution_count": null,
   "metadata": {},
   "outputs": [],
   "source": []
  },
  {
   "cell_type": "code",
   "execution_count": null,
   "metadata": {},
   "outputs": [],
   "source": []
  },
  {
   "cell_type": "code",
   "execution_count": null,
   "metadata": {},
   "outputs": [],
   "source": []
  }
 ],
 "metadata": {
  "kernelspec": {
   "display_name": "MMFM-Challenge",
   "language": "python",
   "name": "python3"
  },
  "language_info": {
   "codemirror_mode": {
    "name": "ipython",
    "version": 3
   },
   "file_extension": ".py",
   "mimetype": "text/x-python",
   "name": "python",
   "nbconvert_exporter": "python",
   "pygments_lexer": "ipython3",
   "version": "3.10.14"
  }
 },
 "nbformat": 4,
 "nbformat_minor": 2
}
