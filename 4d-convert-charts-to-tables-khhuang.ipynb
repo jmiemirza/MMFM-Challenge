{
 "cells": [
  {
   "cell_type": "code",
   "execution_count": 1,
   "metadata": {},
   "outputs": [
    {
     "name": "stderr",
     "output_type": "stream",
     "text": [
      "/home/leloykun/anaconda3/envs/MMFM-Challenge/lib/python3.10/site-packages/tqdm/auto.py:21: TqdmWarning: IProgress not found. Please update jupyter and ipywidgets. See https://ipywidgets.readthedocs.io/en/stable/user_install.html\n",
      "  from .autonotebook import tqdm as notebook_tqdm\n"
     ]
    }
   ],
   "source": [
    "from transformers import DonutProcessor, VisionEncoderDecoderModel\n",
    "from PIL import Image"
   ]
  },
  {
   "cell_type": "code",
   "execution_count": 2,
   "metadata": {},
   "outputs": [
    {
     "name": "stderr",
     "output_type": "stream",
     "text": [
      "/home/leloykun/anaconda3/envs/MMFM-Challenge/lib/python3.10/site-packages/torch/_utils.py:776: UserWarning: TypedStorage is deprecated. It will be removed in the future and UntypedStorage will be the only storage class. This should only matter to you if you are using storages directly.  To access UntypedStorage directly, use tensor.untyped_storage() instead of tensor.storage()\n",
      "  return self.fget.__get__(instance, owner)()\n"
     ]
    }
   ],
   "source": [
    "model_name = \"khhuang/chart-to-table\"\n",
    "model = VisionEncoderDecoderModel.from_pretrained(model_name).cuda()\n",
    "processor = DonutProcessor.from_pretrained(model_name)"
   ]
  },
  {
   "cell_type": "code",
   "execution_count": 3,
   "metadata": {},
   "outputs": [],
   "source": [
    "image_path = \"data/raw_datasets/mychart/images/328_hbar_0635a64e806fee03461eddecf061fd851a801f3b482d208e5c651e7c68c69585_66.png\"\n",
    "input_prompt = \"<data_table_generation> <s_answer>\""
   ]
  },
  {
   "cell_type": "code",
   "execution_count": 4,
   "metadata": {},
   "outputs": [
    {
     "name": "stderr",
     "output_type": "stream",
     "text": [
      "Truncation was not explicitly activated but `max_length` is provided a specific value, please use `truncation=True` to explicitly truncate examples to max length. Defaulting to 'longest_first' truncation strategy. If you encode pairs of sequences (GLUE-style) with the tokenizer you can select this strategy more precisely by providing a specific strategy to `truncation`.\n"
     ]
    }
   ],
   "source": [
    "img = Image.open(image_path)\n",
    "pixel_values = processor(img.convert(\"RGB\"), random_padding=False, return_tensors=\"pt\").pixel_values\n",
    "pixel_values = pixel_values.cuda()\n",
    "decoder_input_ids = processor.tokenizer(input_prompt, add_special_tokens=False, return_tensors=\"pt\", max_length=510).input_ids.cuda()#.squeeze(0)"
   ]
  },
  {
   "cell_type": "code",
   "execution_count": 5,
   "metadata": {},
   "outputs": [],
   "source": [
    "outputs = model.generate(\n",
    "    pixel_values.cuda(),\n",
    "    decoder_input_ids=decoder_input_ids.cuda(),\n",
    "    max_length=model.decoder.config.max_position_embeddings,\n",
    "    early_stopping=True,\n",
    "    pad_token_id=processor.tokenizer.pad_token_id,\n",
    "    eos_token_id=processor.tokenizer.eos_token_id,\n",
    "    use_cache=True,\n",
    "    num_beams=4,\n",
    "    bad_words_ids=[[processor.tokenizer.unk_token_id]],\n",
    "    return_dict_in_generate=True,\n",
    ")"
   ]
  },
  {
   "cell_type": "code",
   "execution_count": 6,
   "metadata": {},
   "outputs": [],
   "source": [
    "sequence = processor.batch_decode(outputs.sequences)[0]\n",
    "sequence = sequence.replace(processor.tokenizer.eos_token, \"\").replace(processor.tokenizer.pad_token, \"\")\n",
    "extracted_table = sequence.split(\"<s_answer>\")[1].strip()"
   ]
  },
  {
   "cell_type": "code",
   "execution_count": 7,
   "metadata": {},
   "outputs": [
    {
     "data": {
      "text/plain": [
       "'TITLE | Annual net salary of an apartment in the United States in 2019, by sector &&& Group | Total | Acquired license rights &&& 30061 | 1738 | Travelmarks and trade names &&& 27438 | 5868 | Completed technology &&& 10052 | 3118 | 6286 | Completed technology &&& New York Times Company Agency && Average 1,000 B2R&A Group && Amount && Estimated && Estimated Estimated && Estimated Estimated Estimated Estimated Estimated Estimated Estimated Estimated Estimated Estimated bankruption && Estimated bankruption && Estimated bankrupt agencies and expenditure and expenditure and expenditure and expenditure and expenditure and expenditure and expenditure and expenditure and expenditure and expenditure and expenditure and expenditure and expenditure and expenditure and expenditure and expenditure and expenditure and expenditure and expenditure and expenditure and expenditure and expenditure and expenditure and expenditure and expenditure and expenditure and expenditure and expenditure and expenditure and expenditure and expenditure and expenditure and expenditure and expenditure and expenditure and expenditure and expenditure and expenditure and expenditure and expenditure and expenditure and expenditure and expenditure and expenditure and expenditure and expenditure and expenditure and expenditure on the weekly expenditure and expenditure and expenditure and expenditure and expenditure and expenditure on the weekly expenditure and expenditure and expenditure and expenditure on the weekly expenditure and expenditure and expenditure on the weekly expenditure and expenditure and expenditure on the weekly expenditure and expenditure on the weekly expenditure and expenditure on the weekly, expenditure and expenditure on the weekly, expenditure and expenditure and expenditure on the weekly current expenditure on the weekly current expenditure on the UK UK rependiture and the UK rependiture on the UK rependiture and the UK rependiture and the equality and the equality and the equality expenditure on the equality expenditure on the equality expenditure on the equality expenditure on the equality expenditure and the equality expenditure on the equality expenditure and the equality expenditure annually current equality reserve | the fourtual funding and the fourtual funding and the fourtual funding and the equality expenditure equality reserve | the fourtual funding and expenditure equality expenditure equality reserve ture &&&&&& equality reserve | the fourtual funding and the fourtual funding and the fourtual funding and the equality spent on the equality spent on the equality spent on the fourtual funding and the equality spent on the equality spent on the fourtual funding and the fourtual funding and the equality spent on the fourtual funding and the fourture paid by sector GDP &&&&&&& the equality spent on the equality spent on the e-go& the e-go& the e-gour group net carrying and the e-gour group net carrying reenses, 2004 net carrying reenses, 2004 net carrying reenses, 2004 net carrying reenses, 2004 net carrying reenses, 2004 net carrying net carrying net carrying net carrying net carrying net carrying net carrying net carrying net carrying net carrying net carrying &&&&& the e-izens, 2004 net carrying net carrying net carrying net carrying &&&&& the e-izens, 2004 net carrying net carrying net carrying net carrying net carrying &&&&&& the e-izens, 2004 net carrying net carrying net carrying net carrying net carrying net carrying &&&&&& the e-izens, 2004 net carrying net carrying net carrying net carrying net carrying net carrying &&&&&&& the net carrying net carrying net carrying &&&&& the net carrying e-izens, 2004 net carrying net carrying net carrying e-izens, 2004 net carrying net carrying net carrying net carrying net carrying &&&&&&&&& The members did members did members did members did members did members paid by the net carrying e-izens, 2004 net carrying net carrying net carrying net carrying net carrying &&&&&&&&&& The members did members did members did members did members did members did members did members did members did members did members did members did members did members did members did members did members did members did members did members did members did members did members did members did members did members did members did members did members did members did members did members did members did members did members did members did members did members did members did members did members did members did members did members did members did members did members did members did members did members did members did members did members did members did members did members did members did members did members did members did members did members did members did members did members did members did members did members did members did members did members did members did members did members did members did members did members did members did members did members did members did members did members did members did members did members did members did members did members did members did members did members did members did members did members did members did members did members did members did members did members did members did members did members did members did members did members did members did members did members did members did members did members did members did members did members did members did members did members did members did members did members did members did members did members did members did members did members did members did members did members did members did members did members did members did members did members did members did members did members did members did members did members did members did members did members did members did members did members did members did members did members did members did members did members did members did members did members did members did members did members did members did members did members did members did members did members did members did members did members did members did members did members did members did members did members did members did members did members did members did members did members did members did members did members did members did members did members did members did members did members did members did members did members did members did members did members did members did members did members did members did members did members'"
      ]
     },
     "execution_count": 7,
     "metadata": {},
     "output_type": "execute_result"
    }
   ],
   "source": [
    "extracted_table"
   ]
  },
  {
   "cell_type": "code",
   "execution_count": null,
   "metadata": {},
   "outputs": [],
   "source": []
  }
 ],
 "metadata": {
  "kernelspec": {
   "display_name": "MMFM-Challenge",
   "language": "python",
   "name": "python3"
  },
  "language_info": {
   "codemirror_mode": {
    "name": "ipython",
    "version": 3
   },
   "file_extension": ".py",
   "mimetype": "text/x-python",
   "name": "python",
   "nbconvert_exporter": "python",
   "pygments_lexer": "ipython3",
   "version": "3.10.14"
  }
 },
 "nbformat": 4,
 "nbformat_minor": 2
}
